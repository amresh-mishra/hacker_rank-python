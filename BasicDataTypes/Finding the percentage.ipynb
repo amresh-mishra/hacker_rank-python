{
 "cells": [
  {
   "cell_type": "code",
   "execution_count": null,
   "id": "ea53d577",
   "metadata": {},
   "outputs": [],
   "source": [
    "if __name__ == '__main__':\n",
    "    n = int(input())\n",
    "    x = [input().split() for i in range(n)]\n",
    "    c = input()\n",
    "    d = {}\n",
    "    for i in range(n):\n",
    "        d[x[i][0]] = list(map(float,x[i][1:]))\n",
    "    print(f'{sum(d[c])/len(d[c]):.2f}')     \n"
   ]
  }
 ],
 "metadata": {
  "kernelspec": {
   "display_name": "Python 3 (ipykernel)",
   "language": "python",
   "name": "python3"
  },
  "language_info": {
   "codemirror_mode": {
    "name": "ipython",
    "version": 3
   },
   "file_extension": ".py",
   "mimetype": "text/x-python",
   "name": "python",
   "nbconvert_exporter": "python",
   "pygments_lexer": "ipython3",
   "version": "3.9.12"
  }
 },
 "nbformat": 4,
 "nbformat_minor": 5
}
