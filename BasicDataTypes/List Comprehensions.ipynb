{
 "cells": [
  {
   "cell_type": "markdown",
   "id": "3c60b32d",
   "metadata": {},
   "source": [
    "Let's learn about list comprehensions! You are given three integers  and  representing the dimensions of a cuboid along with an integer . Print a list of all possible coordinates given by  on a 3D grid where the sum of  is not equal to . Here, . Please use list comprehensions rather than multiple loops, as a learning exercise."
   ]
  },
  {
   "cell_type": "code",
   "execution_count": null,
   "id": "ccd3b77c",
   "metadata": {},
   "outputs": [],
   "source": [
    "if __name__ == '__main__':\n",
    "    x = int(input())\n",
    "    y = int(input())\n",
    "    z = int(input())\n",
    "    n = int(input())\n",
    "    \n",
    "    \n",
    "    listi = []\n",
    "    listj = []\n",
    "    listk = []\n",
    "    listn = []\n",
    "\n",
    "    listi = [i for i in range(x+1)]\n",
    "    listj = [j for j in range(y+1)]\n",
    "    listk = [k for k in range(z+1)]\n",
    "\n",
    "    listn =[[i, j, k] for i in listi for j in listj for k in listk if i+j+k!=n]\n",
    "\n",
    "\n",
    "    print(listn)\n"
   ]
  }
 ],
 "metadata": {
  "kernelspec": {
   "display_name": "Python 3 (ipykernel)",
   "language": "python",
   "name": "python3"
  },
  "language_info": {
   "codemirror_mode": {
    "name": "ipython",
    "version": 3
   },
   "file_extension": ".py",
   "mimetype": "text/x-python",
   "name": "python",
   "nbconvert_exporter": "python",
   "pygments_lexer": "ipython3",
   "version": "3.9.12"
  }
 },
 "nbformat": 4,
 "nbformat_minor": 5
}
