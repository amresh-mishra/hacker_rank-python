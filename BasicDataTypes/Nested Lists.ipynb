{
 "cells": [
  {
   "cell_type": "markdown",
   "id": "7f0a2ab2",
   "metadata": {},
   "source": [
    "Given the names and grades for each student in a class of  students, store them in a nested list and print the name(s) of any student(s) having the second lowest grade.\n",
    "\n",
    "Note: If there are multiple students with the second lowest grade, order their names alphabetically and print each name on a new line."
   ]
  },
  {
   "cell_type": "code",
   "execution_count": null,
   "id": "2efd74e0",
   "metadata": {},
   "outputs": [],
   "source": [
    "if __name__ == '__main__':\n",
    "    grades = []\n",
    "    for _ in range(int(input())):\n",
    "        name = input()\n",
    "        grade = float(input()) \n",
    "        grades.append([name, grade])\n",
    "    \n",
    "    # Find min grade\n",
    "    min_grade = min(grades, key = lambda x: x[1])\n",
    "    \n",
    "    # Keep only students with grade higher than min\n",
    "    grades = [grade for grade in grades if grade[1] > min_grade[1]]\n",
    "    \n",
    "    # Find second min grade\n",
    "    second_min_grade = min(grades, key = lambda x: x[1])\n",
    "    \n",
    "    # Keep only students with second min grade\n",
    "    grades = [grade for grade in grades if grade[1] == second_min_grade[1]]\n",
    "    \n",
    "    # Sort students alphabetically\n",
    "    grades.sort(key = lambda x: x[0])\n",
    "    \n",
    "    for grade in grades:\n",
    "        print(grade[0])"
   ]
  }
 ],
 "metadata": {
  "kernelspec": {
   "display_name": "Python 3 (ipykernel)",
   "language": "python",
   "name": "python3"
  },
  "language_info": {
   "codemirror_mode": {
    "name": "ipython",
    "version": 3
   },
   "file_extension": ".py",
   "mimetype": "text/x-python",
   "name": "python",
   "nbconvert_exporter": "python",
   "pygments_lexer": "ipython3",
   "version": "3.9.12"
  }
 },
 "nbformat": 4,
 "nbformat_minor": 5
}
