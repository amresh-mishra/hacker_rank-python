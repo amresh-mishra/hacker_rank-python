{
 "cells": [
  {
   "cell_type": "code",
   "execution_count": null,
   "id": "a4dcde27",
   "metadata": {},
   "outputs": [],
   "source": [
    "import re\n",
    "N=int(input())\n",
    "\n",
    "for i in range(0,N):\n",
    "    s=input()\n",
    "\n",
    "    x=s.split()\n",
    "\n",
    "    if len(x)>1  and  '{' not in x:\n",
    "        x=re.findall(r'#[a-fA-F0-9]{3,6}',s)\n",
    "        [print(i) for  i in x]\n"
   ]
  }
 ],
 "metadata": {
  "kernelspec": {
   "display_name": "Python 3 (ipykernel)",
   "language": "python",
   "name": "python3"
  },
  "language_info": {
   "codemirror_mode": {
    "name": "ipython",
    "version": 3
   },
   "file_extension": ".py",
   "mimetype": "text/x-python",
   "name": "python",
   "nbconvert_exporter": "python",
   "pygments_lexer": "ipython3",
   "version": "3.9.12"
  }
 },
 "nbformat": 4,
 "nbformat_minor": 5
}
