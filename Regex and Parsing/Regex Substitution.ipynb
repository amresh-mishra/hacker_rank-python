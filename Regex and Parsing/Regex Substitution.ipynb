{
 "cells": [
  {
   "cell_type": "code",
   "execution_count": null,
   "id": "18c3d7a3",
   "metadata": {},
   "outputs": [],
   "source": [
    "# importing the module\n",
    "import re\n",
    "\n",
    "# using for loop\n",
    "for i in range(int(input())):\n",
    "    \n",
    "    # using re.sub method and taking input\n",
    "    s = re.sub(\"(?<=\\s)&&(?=\\s)\", \"and\", input())\n",
    "    \n",
    "    #printing the required output\n",
    "    print(re.sub(\"(?<=\\s)\\|\\|(?=\\s)\", \"or\", s))"
   ]
  }
 ],
 "metadata": {
  "kernelspec": {
   "display_name": "Python 3 (ipykernel)",
   "language": "python",
   "name": "python3"
  },
  "language_info": {
   "codemirror_mode": {
    "name": "ipython",
    "version": 3
   },
   "file_extension": ".py",
   "mimetype": "text/x-python",
   "name": "python",
   "nbconvert_exporter": "python",
   "pygments_lexer": "ipython3",
   "version": "3.9.12"
  }
 },
 "nbformat": 4,
 "nbformat_minor": 5
}
