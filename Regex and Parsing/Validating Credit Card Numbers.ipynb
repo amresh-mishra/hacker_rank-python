{
 "cells": [
  {
   "cell_type": "code",
   "execution_count": null,
   "id": "b89b62d3",
   "metadata": {},
   "outputs": [],
   "source": [
    "# importing module\n",
    "import re\n",
    "\n",
    "# taking input from user\n",
    "n = int(input())\n",
    "\n",
    "# iterating through the credit cards\n",
    "for t in range(n):\n",
    "    \n",
    "    #taking the credit card number from user\n",
    "    credit = input().strip()\n",
    "    credit_card = credit.replace('-','')\n",
    "    \n",
    "    # valid is true in the beggining\n",
    "    valid = True\n",
    "    \n",
    "    # using regual expressions\n",
    "    length_16 = bool(re.match(r'^[4-6]\\d{15}$',credit))\n",
    "    length_19 = bool(re.match(r'^[4-6]\\d{3}-\\d{4}-\\d{4}-\\d{4}$',credit))    \n",
    "    consecutive = bool(re.findall(r'(?=(\\d)\\1\\1\\1)',credit_card))\n",
    "    \n",
    "    # checking if the above regural expressions are true\n",
    "    if length_16 == True or length_19 == True:\n",
    "        if consecutive == True:\n",
    "            valid=False\n",
    "    else:\n",
    "        valid = False       \n",
    "    if valid == True:\n",
    "        print('Valid')\n",
    "    else:\n",
    "        print('Invalid')"
   ]
  }
 ],
 "metadata": {
  "kernelspec": {
   "display_name": "Python 3 (ipykernel)",
   "language": "python",
   "name": "python3"
  },
  "language_info": {
   "codemirror_mode": {
    "name": "ipython",
    "version": 3
   },
   "file_extension": ".py",
   "mimetype": "text/x-python",
   "name": "python",
   "nbconvert_exporter": "python",
   "pygments_lexer": "ipython3",
   "version": "3.9.12"
  }
 },
 "nbformat": 4,
 "nbformat_minor": 5
}
