{
 "cells": [
  {
   "cell_type": "markdown",
   "id": "c4719b01",
   "metadata": {},
   "source": [
    "Mr. Vincent works in a door mat manufacturing company. One day, he designed a new door mat with the following specifications:\n",
    "\n",
    "Mat size must be X. ( is an odd natural number, and  is  times .)\n",
    "The design should have 'WELCOME' written in the center.\n",
    "The design pattern should only use |, . and - characters.\n",
    "Sample Designs\n",
    "\n",
    "    Size: 7 x 21 \n",
    "    ---------.|.---------\n",
    "    ------.|..|..|.------\n",
    "    ---.|..|..|..|..|.---\n",
    "    -------WELCOME-------\n",
    "    ---.|..|..|..|..|.---\n",
    "    ------.|..|..|.------\n",
    "    ---------.|.---------\n",
    "    \n",
    "    Size: 11 x 33\n",
    "    ---------------.|.---------------\n",
    "    ------------.|..|..|.------------\n",
    "    ---------.|..|..|..|..|.---------\n",
    "    ------.|..|..|..|..|..|..|.------\n",
    "    ---.|..|..|..|..|..|..|..|..|.---\n",
    "    -------------WELCOME-------------\n",
    "    ---.|..|..|..|..|..|..|..|..|.---\n",
    "    ------.|..|..|..|..|..|..|.------\n",
    "    ---------.|..|..|..|..|.---------\n",
    "    ------------.|..|..|.------------\n",
    "    ---------------.|.---------------\n",
    "Input Format\n",
    "\n",
    "A single line containing the space separated values of  and ."
   ]
  },
  {
   "cell_type": "code",
   "execution_count": null,
   "id": "26677829",
   "metadata": {},
   "outputs": [],
   "source": [
    "n,m=map(int,input().split())\n",
    "s1='-'\n",
    "s='.|.'\n",
    "c=(m-3)//2\n",
    "for i in range(0,n//2):\n",
    "    print(s1*c+s*(2*i+1)+s1*c)\n",
    "    c-=3\n",
    "print(s1*((m-7)//2)+'WELCOME'+s1*((m-7)//2))\n",
    "c=3\n",
    "for i in range((n//2)-1,-1,-1):\n",
    "    print(s1*c+s*(2*i+1)+s1*c)\n",
    "    c+=3"
   ]
  }
 ],
 "metadata": {
  "kernelspec": {
   "display_name": "Python 3 (ipykernel)",
   "language": "python",
   "name": "python3"
  },
  "language_info": {
   "codemirror_mode": {
    "name": "ipython",
    "version": 3
   },
   "file_extension": ".py",
   "mimetype": "text/x-python",
   "name": "python",
   "nbconvert_exporter": "python",
   "pygments_lexer": "ipython3",
   "version": "3.9.12"
  }
 },
 "nbformat": 4,
 "nbformat_minor": 5
}
