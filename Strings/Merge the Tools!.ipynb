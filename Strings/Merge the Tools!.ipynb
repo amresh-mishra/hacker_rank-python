{
 "cells": [
  {
   "cell_type": "markdown",
   "id": "40beb82f",
   "metadata": {},
   "source": [
    "Consider the following:\n",
    "\n",
    "A string, , of length  where .\n",
    "An integer, , where  is a factor of .\n",
    "We can split  into  substrings where each subtring, , consists of a contiguous block of  characters in . Then, use each  to create string  such that:\n",
    "\n",
    "The characters in  are a subsequence of the characters in .\n",
    "Any repeat occurrence of a character is removed from the string such that each character in  occurs exactly once. In other words, if the character at some index  in  occurs at a previous index  in , then do not include the character in string .\n",
    "Given  and , print  lines where each line  denotes string .\n",
    "\n",
    "Example\n",
    "\n",
    "\n",
    "There are three substrings of length  to consider: 'AAA', 'BCA' and 'DDE'. The first substring is all 'A' characters, so . The second substring has all distinct characters, so . The third substring has  different characters, so . Note that a subsequence maintains the original order of characters encountered. The order of characters in each subsequence shown is important.\n",
    "\n",
    "Function Description\n",
    "\n",
    "Complete the merge_the_tools function in the editor below.\n",
    "\n",
    "merge_the_tools has the following parameters:\n",
    "\n",
    "string s: the string to analyze\n",
    "int k: the size of substrings to analyze\n",
    "Prints\n",
    "\n",
    "Print each subsequence on a new line. There will be  of them. No return value is expected.\n",
    "\n",
    "Input Format\n",
    "\n",
    "The first line contains a single string, .\n",
    "The second line contains an integer, , the length of each substring.\n",
    "\n",
    "Constraints\n",
    "\n",
    ", where  is the length of \n",
    "It is guaranteed that  is a multiple of ."
   ]
  },
  {
   "cell_type": "code",
   "execution_count": null,
   "id": "7ab13574",
   "metadata": {},
   "outputs": [],
   "source": [
    "def merge_the_tools(string, k):\n",
    "    l = len(string)//k\n",
    "    for i in range(l):\n",
    "        print(''.join(dict.fromkeys(string[i*k:(i*k)+k])))\n",
    "\n",
    "if __name__ == '__main__':\n",
    "    string, k = input(), int(input())\n",
    "    merge_the_tools(string, k)"
   ]
  }
 ],
 "metadata": {
  "kernelspec": {
   "display_name": "Python 3 (ipykernel)",
   "language": "python",
   "name": "python3"
  },
  "language_info": {
   "codemirror_mode": {
    "name": "ipython",
    "version": 3
   },
   "file_extension": ".py",
   "mimetype": "text/x-python",
   "name": "python",
   "nbconvert_exporter": "python",
   "pygments_lexer": "ipython3",
   "version": "3.9.12"
  }
 },
 "nbformat": 4,
 "nbformat_minor": 5
}
