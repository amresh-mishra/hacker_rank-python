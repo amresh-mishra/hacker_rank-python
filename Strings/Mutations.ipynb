{
 "cells": [
  {
   "cell_type": "markdown",
   "id": "6abdc065",
   "metadata": {},
   "source": [
    "We have seen that lists are mutable (they can be changed), and tuples are immutable (they cannot be changed).\n",
    "\n",
    "Let's try to understand this with an example.\n",
    "\n",
    "You are given an immutable string, and you want to make changes to it.\n",
    "\n",
    "Example\n",
    "\n",
    ">>> string = \"abracadabra\"\n",
    "You can access an index by:\n",
    "\n",
    ">>> print string[5]\n",
    "a\n",
    "What if you would like to assign a value?\n",
    "\n",
    ">>> string[5] = 'k' \n",
    "Traceback (most recent call last):\n",
    "  File \"<stdin>\", line 1, in <module>\n",
    "TypeError: 'str' object does not support item assignment\n",
    "How would you approach this?\n",
    "\n",
    "One solution is to convert the string to a list and then change the value."
   ]
  },
  {
   "cell_type": "code",
   "execution_count": null,
   "id": "36d6a417",
   "metadata": {},
   "outputs": [],
   "source": [
    "def mutate_string(string,pos,charac):\n",
    "    x = [i for i in string]\n",
    "    x[pos] = charac \n",
    "    return ''.join(x)\n",
    "\n",
    "if __name__ == '__main__':\n",
    "    s = input()\n",
    "    i, c = input().split()\n",
    "    s_new = mutate_string(s, int(i), c)\n",
    "    print(s_new)"
   ]
  }
 ],
 "metadata": {
  "kernelspec": {
   "display_name": "Python 3 (ipykernel)",
   "language": "python",
   "name": "python3"
  },
  "language_info": {
   "codemirror_mode": {
    "name": "ipython",
    "version": 3
   },
   "file_extension": ".py",
   "mimetype": "text/x-python",
   "name": "python",
   "nbconvert_exporter": "python",
   "pygments_lexer": "ipython3",
   "version": "3.9.12"
  }
 },
 "nbformat": 4,
 "nbformat_minor": 5
}
