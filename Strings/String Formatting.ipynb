{
 "cells": [
  {
   "cell_type": "markdown",
   "id": "1fbaa6b3",
   "metadata": {},
   "source": [
    "Given an integer, , print the following values for each integer  from  to :\n",
    "\n",
    "Decimal\n",
    "Octal\n",
    "Hexadecimal (capitalized)\n",
    "Binary\n",
    "Function Description\n",
    "\n",
    "Complete the print_formatted function in the editor below.\n",
    "\n",
    "print_formatted has the following parameters:\n",
    "\n",
    "int number: the maximum value to print\n",
    "Prints\n",
    "\n",
    "The four values must be printed on a single line in the order specified above for each  from  to . Each value should be space-padded to match the width of the binary value of  and the values should be separated by a single space.\n",
    "\n",
    "Input Format\n",
    "\n",
    "A single integer denoting .\n",
    "\n",
    "Constraints\n",
    "\n"
   ]
  },
  {
   "cell_type": "code",
   "execution_count": null,
   "id": "a9dc7105",
   "metadata": {},
   "outputs": [],
   "source": [
    "def print_formatted(number):\n",
    "    pad = number.bit_length()\n",
    "    for i in range(1,number+1):\n",
    "        print(str(i).rjust(pad),oct(i).split(\"o\")[1].rjust(pad),hex(i).split(\"x\")[1].upper().rjust(pad),bin(i).split(\"b\")[1].rjust(pad))\n",
    "if __name__ == '__main__':\n",
    "    n = int(input())\n",
    "    print_formatted(n)"
   ]
  }
 ],
 "metadata": {
  "kernelspec": {
   "display_name": "Python 3 (ipykernel)",
   "language": "python",
   "name": "python3"
  },
  "language_info": {
   "codemirror_mode": {
    "name": "ipython",
    "version": 3
   },
   "file_extension": ".py",
   "mimetype": "text/x-python",
   "name": "python",
   "nbconvert_exporter": "python",
   "pygments_lexer": "ipython3",
   "version": "3.9.12"
  }
 },
 "nbformat": 4,
 "nbformat_minor": 5
}
