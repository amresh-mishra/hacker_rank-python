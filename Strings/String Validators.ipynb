{
 "cells": [
  {
   "cell_type": "markdown",
   "id": "e5f7ecd0",
   "metadata": {},
   "source": [
    "Task\n",
    "\n",
    "You are given a string .\n",
    "Your task is to find out if the string  contains: alphanumeric characters, alphabetical characters, digits, lowercase and uppercase characters.\n",
    "\n",
    "Input Format\n",
    "\n",
    "A single line containing a string .\n",
    "\n",
    "Constraints\n",
    "\n",
    "\n",
    "Output Format\n",
    "\n",
    "In the first line, print True if  has any alphanumeric characters. Otherwise, print False.\n",
    "In the second line, print True if  has any alphabetical characters. Otherwise, print False.\n",
    "In the third line, print True if  has any digits. Otherwise, print False.\n",
    "In the fourth line, print True if  has any lowercase characters. Otherwise, print False.\n",
    "In the fifth line, print True if  has any uppercase characters. Otherwise, print False."
   ]
  },
  {
   "cell_type": "code",
   "execution_count": null,
   "id": "d094db21",
   "metadata": {},
   "outputs": [],
   "source": [
    "if __name__ == '__main__':\n",
    "    s = input()\n",
    "\n",
    "string = list(s)\n",
    "\n",
    "al_num = False\n",
    "al = False\n",
    "dig = False\n",
    "low = False\n",
    "upp = False\n",
    "\n",
    "for i in string:\n",
    "    al_num = al_num or i.isalnum() \n",
    "    al  = al or i.isalpha()\n",
    "    dig = dig or i.isdigit()\n",
    "    low = low or i.islower()\n",
    "    upp = upp or i.isupper()\n",
    "\n",
    "print(al_num)\n",
    "print(al)\n",
    "print(dig)\n",
    "print(low)\n",
    "print(upp)"
   ]
  }
 ],
 "metadata": {
  "kernelspec": {
   "display_name": "Python 3 (ipykernel)",
   "language": "python",
   "name": "python3"
  },
  "language_info": {
   "codemirror_mode": {
    "name": "ipython",
    "version": 3
   },
   "file_extension": ".py",
   "mimetype": "text/x-python",
   "name": "python",
   "nbconvert_exporter": "python",
   "pygments_lexer": "ipython3",
   "version": "3.9.12"
  }
 },
 "nbformat": 4,
 "nbformat_minor": 5
}
