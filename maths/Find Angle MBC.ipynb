{
 "cells": [
  {
   "cell_type": "code",
   "execution_count": null,
   "id": "62be8791",
   "metadata": {},
   "outputs": [],
   "source": [
    "# importing the module\n",
    "import math\n",
    "\n",
    "# taking the input from user\n",
    "ab = float(input())\n",
    "bc = float(input())\n",
    "\n",
    "# finding the distance \n",
    "ac = math.sqrt((ab*ab)+(bc*bc))\n",
    "bm = ac / 2.0\n",
    "mc = bm\n",
    "\n",
    "# equalizing the sides \n",
    "b = mc\n",
    "c = bm\n",
    "a = bc\n",
    "\n",
    "# where b=c\n",
    "# finding the angle in radian\n",
    "angel_b_radian = math.acos(a / (2*b))\n",
    "\n",
    "# converting the radian to degree\n",
    "angel_b_degree = int(round((180 * angel_b_radian) / math.pi))\n",
    "\n",
    "# printing with degree\n",
    "print(angel_b_degree,'\\u00B0',sep='')"
   ]
  }
 ],
 "metadata": {
  "kernelspec": {
   "display_name": "Python 3 (ipykernel)",
   "language": "python",
   "name": "python3"
  },
  "language_info": {
   "codemirror_mode": {
    "name": "ipython",
    "version": 3
   },
   "file_extension": ".py",
   "mimetype": "text/x-python",
   "name": "python",
   "nbconvert_exporter": "python",
   "pygments_lexer": "ipython3",
   "version": "3.9.12"
  }
 },
 "nbformat": 4,
 "nbformat_minor": 5
}
