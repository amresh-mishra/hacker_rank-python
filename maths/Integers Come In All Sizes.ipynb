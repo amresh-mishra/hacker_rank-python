{
 "cells": [
  {
   "cell_type": "markdown",
   "id": "ce4edd3d",
   "metadata": {},
   "source": [
    "Task\n",
    "Read four numbers, , , , and , and print the result of .\n",
    "\n",
    "Input Format\n",
    "Integers , , , and  are given on four separate lines, respectively."
   ]
  },
  {
   "cell_type": "code",
   "execution_count": null,
   "id": "3e7564e9",
   "metadata": {},
   "outputs": [],
   "source": [
    "a,b,c,d = (int(input()) for _ in range(4))\n",
    "print (pow(a,b)+pow(c,d))"
   ]
  }
 ],
 "metadata": {
  "kernelspec": {
   "display_name": "Python 3 (ipykernel)",
   "language": "python",
   "name": "python3"
  },
  "language_info": {
   "codemirror_mode": {
    "name": "ipython",
    "version": 3
   },
   "file_extension": ".py",
   "mimetype": "text/x-python",
   "name": "python",
   "nbconvert_exporter": "python",
   "pygments_lexer": "ipython3",
   "version": "3.9.12"
  }
 },
 "nbformat": 4,
 "nbformat_minor": 5
}
