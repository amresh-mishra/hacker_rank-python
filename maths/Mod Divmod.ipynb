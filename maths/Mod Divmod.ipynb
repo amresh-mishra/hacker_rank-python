{
 "cells": [
  {
   "cell_type": "markdown",
   "id": "8a4c04e4",
   "metadata": {},
   "source": [
    "Task\n",
    "You have a non-empty set , and you have to execute  commands given in  lines.\n",
    "\n",
    "The commands will be pop, remove and discard.\n",
    "\n",
    "Input Format\n",
    "\n",
    "The first line contains integer , the number of elements in the set .\n",
    "The second line contains  space separated elements of set . All of the elements are non-negative integers, less than or equal to 9.\n",
    "The third line contains integer , the number of commands.\n",
    "The next  lines contains either pop, remove and/or discard commands followed by their associated value."
   ]
  },
  {
   "cell_type": "code",
   "execution_count": null,
   "id": "764d3aae",
   "metadata": {},
   "outputs": [],
   "source": [
    "print('{0}\\n{1}\\n({0}, {1})'.format(*divmod(int(input()), int(input()))))"
   ]
  }
 ],
 "metadata": {
  "kernelspec": {
   "display_name": "Python 3 (ipykernel)",
   "language": "python",
   "name": "python3"
  },
  "language_info": {
   "codemirror_mode": {
    "name": "ipython",
    "version": 3
   },
   "file_extension": ".py",
   "mimetype": "text/x-python",
   "name": "python",
   "nbconvert_exporter": "python",
   "pygments_lexer": "ipython3",
   "version": "3.9.12"
  }
 },
 "nbformat": 4,
 "nbformat_minor": 5
}
