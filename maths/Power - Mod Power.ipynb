{
 "cells": [
  {
   "cell_type": "markdown",
   "id": "684e802f",
   "metadata": {},
   "source": [
    "So far, we have only heard of Python's powers. Now, we will witness them!\n",
    "\n",
    "Powers or exponents in Python can be calculated using the built-in power function. Call the power function  as shown below:\n",
    "\n",
    ">>> pow(a,b) \n",
    "or\n",
    "\n",
    ">>> a**b\n",
    "It's also possible to calculate .\n",
    "\n",
    ">>> pow(a,b,m)  \n",
    "This is very helpful in computations where you have to print the resultant % mod."
   ]
  },
  {
   "cell_type": "code",
   "execution_count": null,
   "id": "be8ce29c",
   "metadata": {},
   "outputs": [],
   "source": [
    "a,b,m = [int(input()) for _ in '123']\n",
    "print(pow(a,b),pow(a,b,m),sep='\\n')"
   ]
  }
 ],
 "metadata": {
  "kernelspec": {
   "display_name": "Python 3 (ipykernel)",
   "language": "python",
   "name": "python3"
  },
  "language_info": {
   "codemirror_mode": {
    "name": "ipython",
    "version": 3
   },
   "file_extension": ".py",
   "mimetype": "text/x-python",
   "name": "python",
   "nbconvert_exporter": "python",
   "pygments_lexer": "ipython3",
   "version": "3.9.12"
  }
 },
 "nbformat": 4,
 "nbformat_minor": 5
}
