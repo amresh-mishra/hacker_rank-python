{
 "cells": [
  {
   "cell_type": "markdown",
   "id": "d2c08c35",
   "metadata": {},
   "source": [
    "You are given a set  and  other sets.\n",
    "Your job is to find whether set  is a strict superset of each of the  sets.\n",
    "\n",
    "Print True, if  is a strict superset of each of the  sets. Otherwise, print False.\n",
    "\n",
    "A strict superset has at least one element that does not exist in its subset."
   ]
  },
  {
   "cell_type": "code",
   "execution_count": null,
   "id": "6c4be2ea",
   "metadata": {},
   "outputs": [],
   "source": [
    "A = set(input().split())\n",
    "superset = True\n",
    "for i in range(int(input())): \n",
    "    B = set(input().split())\n",
    "    superset = superset and (A.intersection(B) == B and len(A) > len(B))\n",
    "    \n",
    "print (superset)"
   ]
  }
 ],
 "metadata": {
  "kernelspec": {
   "display_name": "Python 3 (ipykernel)",
   "language": "python",
   "name": "python3"
  },
  "language_info": {
   "codemirror_mode": {
    "name": "ipython",
    "version": 3
   },
   "file_extension": ".py",
   "mimetype": "text/x-python",
   "name": "python",
   "nbconvert_exporter": "python",
   "pygments_lexer": "ipython3",
   "version": "3.9.12"
  }
 },
 "nbformat": 4,
 "nbformat_minor": 5
}
