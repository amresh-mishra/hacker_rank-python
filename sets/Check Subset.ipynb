{
 "cells": [
  {
   "cell_type": "markdown",
   "id": "c8e6dea9",
   "metadata": {},
   "source": [
    "You are given two sets,  and .\n",
    "Your job is to find whether set  is a subset of set .\n",
    "\n",
    "If set  is subset of set , print True.\n",
    "If set  is not a subset of set , print False.\n",
    "\n",
    "Input Format\n",
    "\n",
    "The first line will contain the number of test cases, .\n",
    "The first line of each test case contains the number of elements in set .\n",
    "The second line of each test case contains the space separated elements of set .\n",
    "The third line of each test case contains the number of elements in set .\n",
    "The fourth line of each test case contains the space separated elements of set .\n",
    "\n",
    "Constraints\n",
    "\n",
    "Output Format\n",
    "\n",
    "Output True or False for each test case on separate lines."
   ]
  },
  {
   "cell_type": "code",
   "execution_count": null,
   "id": "c73ced98",
   "metadata": {},
   "outputs": [],
   "source": [
    "for i in range(int(input())): \n",
    "    a = int(input()); A = set(input().split()) \n",
    "    b = int(input()); B = set(input().split())\n",
    "    if(len(A.difference(B))==0):\n",
    "        print(\"True\")\n",
    "    else:\n",
    "        print(\"False\")"
   ]
  }
 ],
 "metadata": {
  "kernelspec": {
   "display_name": "Python 3 (ipykernel)",
   "language": "python",
   "name": "python3"
  },
  "language_info": {
   "codemirror_mode": {
    "name": "ipython",
    "version": 3
   },
   "file_extension": ".py",
   "mimetype": "text/x-python",
   "name": "python",
   "nbconvert_exporter": "python",
   "pygments_lexer": "ipython3",
   "version": "3.9.12"
  }
 },
 "nbformat": 4,
 "nbformat_minor": 5
}
