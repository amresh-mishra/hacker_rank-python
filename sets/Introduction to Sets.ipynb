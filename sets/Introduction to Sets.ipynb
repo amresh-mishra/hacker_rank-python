{
 "cells": [
  {
   "cell_type": "markdown",
   "id": "b23fb614",
   "metadata": {},
   "source": [
    "A set is an unordered collection of elements without duplicate entries.\n",
    "When printed, iterated or converted into a sequence, its elements will appear in an arbitrary order."
   ]
  },
  {
   "cell_type": "code",
   "execution_count": null,
   "id": "11537b57",
   "metadata": {},
   "outputs": [],
   "source": [
    "def average(array):\n",
    "    sum_ = sum(set(array))\n",
    "    len_ = len(set(array))\n",
    "    output = sum_/len_\n",
    "    return output;\n",
    "\n",
    "if __name__ == '__main__':\n",
    "    n = int(input())\n",
    "    arr = list(map(int, input().split()))\n",
    "    result = average(arr)\n",
    "    print(result)"
   ]
  }
 ],
 "metadata": {
  "kernelspec": {
   "display_name": "Python 3 (ipykernel)",
   "language": "python",
   "name": "python3"
  },
  "language_info": {
   "codemirror_mode": {
    "name": "ipython",
    "version": 3
   },
   "file_extension": ".py",
   "mimetype": "text/x-python",
   "name": "python",
   "nbconvert_exporter": "python",
   "pygments_lexer": "ipython3",
   "version": "3.9.12"
  }
 },
 "nbformat": 4,
 "nbformat_minor": 5
}
