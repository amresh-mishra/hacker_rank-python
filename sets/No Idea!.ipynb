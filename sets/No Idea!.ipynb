{
 "cells": [
  {
   "cell_type": "markdown",
   "id": "7d222a0d",
   "metadata": {},
   "source": [
    "There is an array of  integers. There are also  disjoint sets,  and , each containing  integers. You like all the integers in set  and dislike all the integers in set . Your initial happiness is . For each  integer in the array, if , you add  to your happiness. If , you add  to your happiness. Otherwise, your happiness does not change. Output your final happiness at the end.\n",
    "\n",
    "Note: Since  and  are sets, they have no repeated elements. However, the array might contain duplicate elements."
   ]
  },
  {
   "cell_type": "code",
   "execution_count": null,
   "id": "9092f875",
   "metadata": {},
   "outputs": [],
   "source": [
    "if __name__ == \"__main__\":\n",
    "    happiness = 0\n",
    "    n, m = map(int, input().strip().split(' '))\n",
    "    elements = list(map(int, input().strip().split(' ')))\n",
    "    \n",
    "    A = set(map(int, input().strip().split(' ')))\n",
    "    B = set(map(int, input().strip().split(' ')))\n",
    "    \n",
    "    for i in elements:\n",
    "        if i in A:\n",
    "            happiness += 1\n",
    "        elif i in B:\n",
    "            happiness -= 1\n",
    "    print(happiness)"
   ]
  }
 ],
 "metadata": {
  "kernelspec": {
   "display_name": "Python 3 (ipykernel)",
   "language": "python",
   "name": "python3"
  },
  "language_info": {
   "codemirror_mode": {
    "name": "ipython",
    "version": 3
   },
   "file_extension": ".py",
   "mimetype": "text/x-python",
   "name": "python",
   "nbconvert_exporter": "python",
   "pygments_lexer": "ipython3",
   "version": "3.9.12"
  }
 },
 "nbformat": 4,
 "nbformat_minor": 5
}
