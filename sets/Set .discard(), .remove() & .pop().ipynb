{
 "cells": [
  {
   "cell_type": "markdown",
   "id": "a07bfeb3",
   "metadata": {},
   "source": [
    "Task\n",
    "You have a non-empty set , and you have to execute  commands given in  lines.\n",
    "\n",
    "The commands will be pop, remove and discard.\n",
    "\n",
    "Input Format\n",
    "\n",
    "The first line contains integer , the number of elements in the set .\n",
    "The second line contains  space separated elements of set . All of the elements are non-negative integers, less than or equal to 9.\n",
    "The third line contains integer , the number of commands.\n",
    "The next  lines contains either pop, remove and/or discard commands followed by their associated value."
   ]
  },
  {
   "cell_type": "code",
   "execution_count": null,
   "id": "62dd6759",
   "metadata": {},
   "outputs": [],
   "source": [
    "num = int(input())\n",
    "data = set(map(int, input().split()))\n",
    "N = int(input())\n",
    "\n",
    "for x in range(N):\n",
    "  oper = input().split()\n",
    "  if oper[0] == \"remove\":\n",
    "    data.remove(int(oper[1]))\n",
    "  elif oper[0] == \"discard\":\n",
    "    data.discard(int(oper[1]))\n",
    "  else:\n",
    "    data.pop()\n",
    "    \n",
    "print(sum(data))"
   ]
  }
 ],
 "metadata": {
  "kernelspec": {
   "display_name": "Python 3 (ipykernel)",
   "language": "python",
   "name": "python3"
  },
  "language_info": {
   "codemirror_mode": {
    "name": "ipython",
    "version": 3
   },
   "file_extension": ".py",
   "mimetype": "text/x-python",
   "name": "python",
   "nbconvert_exporter": "python",
   "pygments_lexer": "ipython3",
   "version": "3.9.12"
  }
 },
 "nbformat": 4,
 "nbformat_minor": 5
}
