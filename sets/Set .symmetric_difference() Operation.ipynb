{
 "cells": [
  {
   "cell_type": "markdown",
   "id": "f9c2dd94",
   "metadata": {},
   "source": [
    "Task\n",
    "Students of District College have subscriptions to English and French newspapers. Some students have subscribed to English only, some have subscribed to French only, and some have subscribed to both newspapers.\n",
    "\n",
    "You are given two sets of student roll numbers. One set has subscribed to the English newspaper, and one set has subscribed to the French newspaper. Your task is to find the total number of students who have subscribed to either the English or the French newspaper but not both."
   ]
  },
  {
   "cell_type": "code",
   "execution_count": 2,
   "id": "d677a68f",
   "metadata": {},
   "outputs": [
    {
     "name": "stdout",
     "output_type": "stream",
     "text": [
      "9\n",
      "1 2 3 4 5 6 7 8 9\n",
      "9\n",
      "10 1 2 3 11 21 55 6 8\n",
      "{10, 11, 21, 55}\n"
     ]
    }
   ],
   "source": [
    "\n",
    "n1=input()\n",
    "li1 = input().split()\n",
    "s1 = set(li1)\n",
    "n2=input()\n",
    "li2 = input().split()\n",
    "s2 = set(li2)\n",
    "s1s2 = s1.symmetric_difference(s2)\n",
    "print(len(s1s2))"
   ]
  },
  {
   "cell_type": "code",
   "execution_count": null,
   "id": "1d6543da",
   "metadata": {},
   "outputs": [],
   "source": [
    "\\"
   ]
  }
 ],
 "metadata": {
  "kernelspec": {
   "display_name": "Python 3 (ipykernel)",
   "language": "python",
   "name": "python3"
  },
  "language_info": {
   "codemirror_mode": {
    "name": "ipython",
    "version": 3
   },
   "file_extension": ".py",
   "mimetype": "text/x-python",
   "name": "python",
   "nbconvert_exporter": "python",
   "pygments_lexer": "ipython3",
   "version": "3.9.12"
  }
 },
 "nbformat": 4,
 "nbformat_minor": 5
}
