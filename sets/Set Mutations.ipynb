{
 "cells": [
  {
   "cell_type": "markdown",
   "id": "7fb79e1c",
   "metadata": {},
   "source": [
    "TASK\n",
    "You are given a set  and  number of other sets. These  number of sets have to perform some specific mutation operations on set .\n",
    "\n",
    "Your task is to execute those operations and print the sum of elements from set .\n",
    "\n",
    "Input Format\n",
    "\n",
    "The first line contains the number of elements in set .\n",
    "The second line contains the space separated list of elements in set .\n",
    "The third line contains integer , the number of other sets.\n",
    "The next  lines are divided into  parts containing two lines each.\n",
    "The first line of each part contains the space separated entries of the operation name and the length of the other set.\n",
    "The second line of each part contains space separated list of elements in the other set.\n",
    "\n",
    " len(set(A)) \n",
    " len(otherSets) \n",
    "\n",
    "Output Format\n",
    "\n",
    "Output the sum of elements in set ."
   ]
  },
  {
   "cell_type": "code",
   "execution_count": null,
   "id": "f8ced185",
   "metadata": {},
   "outputs": [],
   "source": [
    "n = input()\n",
    "s = set(map(int, input().split())) \n",
    "\n",
    "for _ in range(int(input())):\n",
    "    args = input().strip().split()\n",
    "    nw= set(map(int, input().split())) \n",
    "    eval(\"s.\" + args[0] + \"(  nw  )\")\n",
    "print(sum(s))"
   ]
  }
 ],
 "metadata": {
  "kernelspec": {
   "display_name": "Python 3 (ipykernel)",
   "language": "python",
   "name": "python3"
  },
  "language_info": {
   "codemirror_mode": {
    "name": "ipython",
    "version": 3
   },
   "file_extension": ".py",
   "mimetype": "text/x-python",
   "name": "python",
   "nbconvert_exporter": "python",
   "pygments_lexer": "ipython3",
   "version": "3.9.12"
  }
 },
 "nbformat": 4,
 "nbformat_minor": 5
}
