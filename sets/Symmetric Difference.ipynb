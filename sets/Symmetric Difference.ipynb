{
 "cells": [
  {
   "cell_type": "markdown",
   "id": "c3c2f975",
   "metadata": {},
   "source": [
    "Objective\n",
    "Today, we're learning about a new data type: sets.\n",
    "\n",
    "Concept\n",
    "\n",
    "If the inputs are given on one line separated by a character (the delimiter), use split() to get the separate values in the form of a list. The delimiter is space (ascii 32) by default. To specify that comma is the delimiter, use string.split(','). For this challenge, and in general on HackerRank, space will be the delimiter."
   ]
  },
  {
   "cell_type": "code",
   "execution_count": null,
   "id": "cffe3b68",
   "metadata": {},
   "outputs": [],
   "source": [
    "a = int(input())\n",
    "aset = set(map(int, input().split()))\n",
    "b = int(input())\n",
    "bset = set(map(int, input().split()))\n",
    "adef = aset.difference(bset)\n",
    "bdef = bset.difference(aset)\n",
    "output = adef.union(bdef)\n",
    "for i in sorted(list(output)):\n",
    "    print(i)"
   ]
  }
 ],
 "metadata": {
  "kernelspec": {
   "display_name": "Python 3 (ipykernel)",
   "language": "python",
   "name": "python3"
  },
  "language_info": {
   "codemirror_mode": {
    "name": "ipython",
    "version": 3
   },
   "file_extension": ".py",
   "mimetype": "text/x-python",
   "name": "python",
   "nbconvert_exporter": "python",
   "pygments_lexer": "ipython3",
   "version": "3.9.12"
  }
 },
 "nbformat": 4,
 "nbformat_minor": 5
}
